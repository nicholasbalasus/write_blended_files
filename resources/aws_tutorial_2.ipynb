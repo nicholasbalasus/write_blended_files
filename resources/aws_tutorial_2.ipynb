{
 "cells": [
  {
   "cell_type": "markdown",
   "metadata": {},
   "source": [
    "### AWS Tutorial 2\n",
    "\n",
    "This tutorial will show you how to download the entire data record for the blended TROPOMI+GOSAT atmospheric methane satellite data product.\n",
    "\n",
    "Nicholas Balasus\\\n",
    "8 February 2024"
   ]
  },
  {
   "cell_type": "code",
   "execution_count": 1,
   "metadata": {},
   "outputs": [],
   "source": [
    "import boto3\n",
    "import multiprocessing\n",
    "import os"
   ]
  },
  {
   "cell_type": "code",
   "execution_count": 2,
   "metadata": {},
   "outputs": [],
   "source": [
    "# First, set up access to S3 using our credentials.\n",
    "bucket_name = \"blended-tropomi-gosat-methane\"\n",
    "s3 = None\n",
    "def initialize():\n",
    "    global s3\n",
    "    s3 = boto3.client('s3')\n",
    "initialize()"
   ]
  },
  {
   "cell_type": "code",
   "execution_count": 3,
   "metadata": {},
   "outputs": [
    {
     "name": "stdout",
     "output_type": "stream",
     "text": [
      "Going to download 29258 files.\n"
     ]
    }
   ],
   "source": [
    "# Loop through the folders for each months and collect all S3 paths\n",
    "months = ([f\"2018-{str(m).zfill(2)}\" for m in range(4,13)] +\n",
    "          [f\"{y}-{str(m).zfill(2)}\" for m in range(1,13) for y in range(2019,2024)])\n",
    "\n",
    "s3_paths = []\n",
    "for month in months:\n",
    "    Prefix=(f\"data/{month}/\")\n",
    "    for key in s3.list_objects(Bucket=bucket_name, Prefix=Prefix)[\"Contents\"]:\n",
    "        s3_paths.append(key[\"Key\"])\n",
    "print(f\"Going to download {len(s3_paths)} files.\")"
   ]
  },
  {
   "cell_type": "code",
   "execution_count": 4,
   "metadata": {},
   "outputs": [],
   "source": [
    "# Download the files using multiple cores\n",
    "storage_dir = \"/n/holyscratch01/jacob_lab/nbalasus/test\"\n",
    "os.makedirs(storage_dir, exist_ok=True)\n",
    "\n",
    "def download_from_s3(s3_path):\n",
    "    file =  os.path.basename(s3_path)\n",
    "    local_file_path = os.path.join(storage_dir,file)\n",
    "    s3.download_file(bucket_name, s3_path, local_file_path)\n",
    "\n",
    "with multiprocessing.Pool(112, initialize) as pool:\n",
    "    pool.map(download_from_s3, s3_paths)\n",
    "    pool.close()\n",
    "    pool.join()"
   ]
  }
 ],
 "metadata": {
  "kernelspec": {
   "display_name": "Python 3",
   "language": "python",
   "name": "python3"
  },
  "language_info": {
   "codemirror_mode": {
    "name": "ipython",
    "version": 3
   },
   "file_extension": ".py",
   "mimetype": "text/x-python",
   "name": "python",
   "nbconvert_exporter": "python",
   "pygments_lexer": "ipython3",
   "version": "3.9.18"
  }
 },
 "nbformat": 4,
 "nbformat_minor": 2
}
